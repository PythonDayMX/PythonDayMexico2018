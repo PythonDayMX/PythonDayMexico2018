{
 "cells": [
  {
   "cell_type": "markdown",
   "metadata": {
    "slideshow": {
     "slide_type": "skip"
    },
    "toc": "true"
   },
   "source": [
    " # Table of Contents\n",
    "<div class=\"toc\" style=\"margin-top: 1em;\"><ul class=\"toc-item\" id=\"toc-level0\"><li><span><a href=\"http://localhost:8888/notebooks/Iteraci%C3%B3n%20la%20historia%20secreta.ipynb#Iteración:-la-historia-secreta\" data-toc-modified-id=\"Iteración:-la-historia-secreta-1\">Iteración: la historia secreta</a></span><ul class=\"toc-item\"><li><span><a href=\"http://localhost:8888/notebooks/Iteraci%C3%B3n%20la%20historia%20secreta.ipynb#Inside-Python's-Iteration-Protocol\" data-toc-modified-id=\"Inside-Python's-Iteration-Protocol-1.1\">Inside Python's Iteration Protocol</a></span></li></ul></li><li><span><a href=\"http://localhost:8888/notebooks/Iteraci%C3%B3n%20la%20historia%20secreta.ipynb#Las-PyCon-Charlas!\" data-toc-modified-id=\"Las-PyCon-Charlas!-2\">Las PyCon Charlas!</a></span><ul class=\"toc-item\"><li><span><a href=\"http://localhost:8888/notebooks/Iteraci%C3%B3n%20la%20historia%20secreta.ipynb#https://us.pycon.org/2019/hatchery/charlas/\" data-toc-modified-id=\"https://us.pycon.org/2019/hatchery/charlas/-2.1\"><a href=\"https://us.pycon.org/2019/hatchery/charlas/\" target=\"_blank\">https://us.pycon.org/2019/hatchery/charlas/</a></a></span></li><li><span><a href=\"http://localhost:8888/notebooks/Iteraci%C3%B3n%20la%20historia%20secreta.ipynb#¡Únete-a-nosotros!\" data-toc-modified-id=\"¡Únete-a-nosotros!-2.2\">¡Únete a nosotros!</a></span><ul class=\"toc-item\"><li><span><a href=\"http://localhost:8888/notebooks/Iteraci%C3%B3n%20la%20historia%20secreta.ipynb#https://www.python.org/psf\" data-toc-modified-id=\"https://www.python.org/psf-2.2.1\"><a href=\"https://www.python.org/psf\" target=\"_blank\">https://www.python.org/psf</a></a></span></li><li><span><a href=\"http://localhost:8888/notebooks/Iteraci%C3%B3n%20la%20historia%20secreta.ipynb#Hable-conmigo\" data-toc-modified-id=\"Hable-conmigo-2.2.2\">Hable conmigo</a></span></li></ul></li><li><span><a href=\"http://localhost:8888/notebooks/Iteraci%C3%B3n%20la%20historia%20secreta.ipynb#Iteration-=-repetition-with-code-and-data\" data-toc-modified-id=\"Iteration-=-repetition-with-code-and-data-2.3\">Iteration = repetition with code and data</a></span></li><li><span><a href=\"http://localhost:8888/notebooks/Iteraci%C3%B3n%20la%20historia%20secreta.ipynb#“Python's-most-powerful-useful-feature”\" data-toc-modified-id=\"“Python's-most-powerful-useful-feature”-2.4\">“Python's most powerful useful feature”</a></span><ul class=\"toc-item\"><li><span><a href=\"http://localhost:8888/notebooks/Iteraci%C3%B3n%20la%20historia%20secreta.ipynb#Repetitive-collections/series-of-data-are-all-around-us\" data-toc-modified-id=\"Repetitive-collections/series-of-data-are-all-around-us-2.4.1\">Repetitive collections/series of data are all around us</a></span></li><li><span><a href=\"http://localhost:8888/notebooks/Iteraci%C3%B3n%20la%20historia%20secreta.ipynb#They-don't-have-a-lot-in-common\" data-toc-modified-id=\"They-don't-have-a-lot-in-common-2.4.2\">They don't have a lot in common</a></span></li><li><span><a href=\"http://localhost:8888/notebooks/Iteraci%C3%B3n%20la%20historia%20secreta.ipynb#But...\" data-toc-modified-id=\"But...-2.4.3\">But...</a></span></li><li><span><a href=\"http://localhost:8888/notebooks/Iteraci%C3%B3n%20la%20historia%20secreta.ipynb#The-Pythonic-for-Loop\" data-toc-modified-id=\"The-Pythonic-for-Loop-2.4.4\">The Pythonic <code>for</code> Loop</a></span></li><li><span><a href=\"http://localhost:8888/notebooks/Iteraci%C3%B3n%20la%20historia%20secreta.ipynb#And-it-works-the-same-for-different-types\" data-toc-modified-id=\"And-it-works-the-same-for-different-types-2.4.5\">And it works the same for different types</a></span></li></ul></li><li><span><a href=\"http://localhost:8888/notebooks/Iteraci%C3%B3n%20la%20historia%20secreta.ipynb#Obvious,-right?\" data-toc-modified-id=\"Obvious,-right?-2.5\">Obvious, right?</a></span></li><li><span><a href=\"http://localhost:8888/notebooks/Iteraci%C3%B3n%20la%20historia%20secreta.ipynb#It-used-to-be-surprising\" data-toc-modified-id=\"It-used-to-be-surprising-2.6\">It <em>used</em> to be surprising</a></span><ul class=\"toc-item\"><li><span><a href=\"http://localhost:8888/notebooks/Iteraci%C3%B3n%20la%20historia%20secreta.ipynb#Python-and-for-loops\" data-toc-modified-id=\"Python-and-for-loops-2.6.1\">Python and <code>for</code> loops</a></span></li></ul></li><li><span><a href=\"http://localhost:8888/notebooks/Iteraci%C3%B3n%20la%20historia%20secreta.ipynb#How-does-that-work?\" data-toc-modified-id=\"How-does-that-work?-2.7\">How does that work?</a></span></li><li><span><a href=\"http://localhost:8888/notebooks/Iteraci%C3%B3n%20la%20historia%20secreta.ipynb#Iteration-protocol\" data-toc-modified-id=\"Iteration-protocol-2.8\">Iteration protocol</a></span><ul class=\"toc-item\"><li><span><a href=\"http://localhost:8888/notebooks/Iteraci%C3%B3n%20la%20historia%20secreta.ipynb#Protocol:\" data-toc-modified-id=\"Protocol:-2.8.1\">Protocol:</a></span></li></ul></li><li><span><a href=\"http://localhost:8888/notebooks/Iteraci%C3%B3n%20la%20historia%20secreta.ipynb#What-is-an-‘iterable’?\" data-toc-modified-id=\"What-is-an-‘iterable’?-2.9\">What is an ‘iterable’?</a></span><ul class=\"toc-item\"><li><span><a href=\"http://localhost:8888/notebooks/Iteraci%C3%B3n%20la%20historia%20secreta.ipynb#Sequence-Semantics?\" data-toc-modified-id=\"Sequence-Semantics?-2.9.1\">Sequence Semantics?</a></span></li></ul></li><li><span><a href=\"http://localhost:8888/notebooks/Iteraci%C3%B3n%20la%20historia%20secreta.ipynb#Iterables\" data-toc-modified-id=\"Iterables-2.10\">Iterables</a></span><ul class=\"toc-item\"><li><span><a href=\"http://localhost:8888/notebooks/Iteraci%C3%B3n%20la%20historia%20secreta.ipynb#An-iterable...\" data-toc-modified-id=\"An-iterable...-2.10.1\">An iterable...</a></span></li><li><span><a href=\"http://localhost:8888/notebooks/Iteraci%C3%B3n%20la%20historia%20secreta.ipynb#There-are-2-ways-an-iterable-can-return-a-iterator---it-can\" data-toc-modified-id=\"There-are-2-ways-an-iterable-can-return-a-iterator---it-can-2.10.2\">There are 2 ways an iterable can return a iterator - it can</a></span></li><li><span><a href=\"http://localhost:8888/notebooks/Iteraci%C3%B3n%20la%20historia%20secreta.ipynb#EAFP---Easier-to-Ask-for-Forgiveness-than-Permission\" data-toc-modified-id=\"EAFP---Easier-to-Ask-for-Forgiveness-than-Permission-2.10.3\">EAFP - Easier to Ask for Forgiveness than Permission</a></span></li></ul></li><li><span><a href=\"http://localhost:8888/notebooks/Iteraci%C3%B3n%20la%20historia%20secreta.ipynb#Let’s-make-an-iterable----Repeater\" data-toc-modified-id=\"Let’s-make-an-iterable----Repeater-2.11\">Let’s make an iterable -  <code>Repeater</code></a></span><ul class=\"toc-item\"><li><span><a href=\"http://localhost:8888/notebooks/Iteraci%C3%B3n%20la%20historia%20secreta.ipynb#As-an-iterable,-using-__getitem__()\" data-toc-modified-id=\"As-an-iterable,-using-__getitem__()-2.11.1\">As an iterable, using <code>__getitem__()</code></a></span></li><li><span><a href=\"http://localhost:8888/notebooks/Iteraci%C3%B3n%20la%20historia%20secreta.ipynb#Behind-the-scenes\" data-toc-modified-id=\"Behind-the-scenes-2.11.2\">Behind the scenes</a></span></li></ul></li><li><span><a href=\"http://localhost:8888/notebooks/Iteraci%C3%B3n%20la%20historia%20secreta.ipynb#What’s-an-Iterator?\" data-toc-modified-id=\"What’s-an-Iterator?-2.12\">What’s an Iterator?</a></span><ul class=\"toc-item\"><li><span><a href=\"http://localhost:8888/notebooks/Iteraci%C3%B3n%20la%20historia%20secreta.ipynb#iterator\" data-toc-modified-id=\"iterator-2.12.1\">iterator</a></span></li><li><span><a href=\"http://localhost:8888/notebooks/Iteraci%C3%B3n%20la%20historia%20secreta.ipynb#ALL-iterators\" data-toc-modified-id=\"ALL-iterators-2.12.2\">ALL iterators</a></span></li><li><span><a href=\"http://localhost:8888/notebooks/Iteraci%C3%B3n%20la%20historia%20secreta.ipynb#multiple-iteration-passes\" data-toc-modified-id=\"multiple-iteration-passes-2.12.3\">multiple iteration passes</a></span></li><li><span><a href=\"http://localhost:8888/notebooks/Iteraci%C3%B3n%20la%20historia%20secreta.ipynb#Let’s-make-a-iterator---RepeatIterator\" data-toc-modified-id=\"Let’s-make-a-iterator---RepeatIterator-2.12.4\">Let’s make a iterator - <code>RepeatIterator</code></a></span></li><li><span><a href=\"http://localhost:8888/notebooks/Iteraci%C3%B3n%20la%20historia%20secreta.ipynb#Behind-the-scenes\" data-toc-modified-id=\"Behind-the-scenes-2.12.5\">Behind the scenes</a></span></li></ul></li><li><span><a href=\"http://localhost:8888/notebooks/Iteraci%C3%B3n%20la%20historia%20secreta.ipynb#Making-an-iterator-with-a-generator-function\" data-toc-modified-id=\"Making-an-iterator-with-a-generator-function-2.13\">Making an iterator with a generator function</a></span><ul class=\"toc-item\"><li><span><a href=\"http://localhost:8888/notebooks/Iteraci%C3%B3n%20la%20historia%20secreta.ipynb#Behind-the-scenes\" data-toc-modified-id=\"Behind-the-scenes-2.13.1\">Behind the scenes</a></span></li><li><span><a href=\"http://localhost:8888/notebooks/Iteraci%C3%B3n%20la%20historia%20secreta.ipynb#Behind-the-scenes\" data-toc-modified-id=\"Behind-the-scenes-2.13.2\">Behind the scenes</a></span></li><li><span><a href=\"http://localhost:8888/notebooks/Iteraci%C3%B3n%20la%20historia%20secreta.ipynb#Repetitive-collections/series-of-data-Iterables\" data-toc-modified-id=\"Repetitive-collections/series-of-data-Iterables-2.13.3\"><del>Repetitive collections/series of data</del> Iterables</a></span></li></ul></li><li><span><a href=\"http://localhost:8888/notebooks/Iteraci%C3%B3n%20la%20historia%20secreta.ipynb#Iteration-in-Python\" data-toc-modified-id=\"Iteration-in-Python-2.14\">Iteration in Python</a></span></li><li><span><a href=\"http://localhost:8888/notebooks/Iteraci%C3%B3n%20la%20historia%20secreta.ipynb#Resources\" data-toc-modified-id=\"Resources-2.15\">Resources</a></span></li></ul></li><li><span><a href=\"http://localhost:8888/notebooks/Iteraci%C3%B3n%20la%20historia%20secreta.ipynb#¡Mil-gracias!\" data-toc-modified-id=\"¡Mil-gracias!-3\">¡Mil gracias!</a></span><ul class=\"toc-item\"><li><span><a href=\"http://localhost:8888/notebooks/Iteraci%C3%B3n%20la%20historia%20secreta.ipynb#¿Preguntas?\" data-toc-modified-id=\"¿Preguntas?-3.1\">¿Preguntas?</a></span><ul class=\"toc-item\"><li><span><a href=\"http://localhost:8888/notebooks/Iteraci%C3%B3n%20la%20historia%20secreta.ipynb#@NaomiCeder\" data-toc-modified-id=\"@NaomiCeder-3.1.1\">@NaomiCeder</a></span></li><li><span><a href=\"http://localhost:8888/notebooks/Iteraci%C3%B3n%20la%20historia%20secreta.ipynb#naomi@naomiceder.tech-•-www.naomiceder.tech\" data-toc-modified-id=\"naomi@naomiceder.tech-•-www.naomiceder.tech-3.1.2\"><a href=\"mailto:naomi@naomiceder.tech\" target=\"_blank\">naomi@naomiceder.tech</a> • <a href=\"http://www.naomiceder.tech\" target=\"_blank\">www.naomiceder.tech</a></a></span></li></ul></li></ul></li></ul></div>"
   ]
  },
  {
   "cell_type": "markdown",
   "metadata": {
    "nbpresent": {
     "id": "ce2bdbfa-efaa-47f1-94f6-fa04558f09fc"
    },
    "slideshow": {
     "slide_type": "slide"
    }
   },
   "source": [
    "<link href=\"https://fonts.googleapis.com/css?family=Signika\" rel=\"stylesheet\">\n",
    "\n",
    "# Iteración: la historia secreta\n",
    "\n",
    "## Inside Python's Iteration Protocol\n",
    "\n",
    "**Naomi Ceder (@naomiceder)**\n",
    "\n",
    "- **Chair, Python Software Foundation**\n",
    "- **Quick Python Book, 3rd ed**\n",
    "- **Dick Blick Art Materials**         \n"
   ]
  },
  {
   "cell_type": "markdown",
   "metadata": {
    "slideshow": {
     "slide_type": "slide"
    }
   },
   "source": [
    "# Las PyCon Charlas!\n",
    "\n",
    "![Las PyCon Charlas!](maria_guido_naomi_mario_mayela.jpg)\n",
    "\n",
    "## https://us.pycon.org/2019/hatchery/charlas/\n"
   ]
  },
  {
   "cell_type": "markdown",
   "metadata": {
    "slideshow": {
     "slide_type": "slide"
    }
   },
   "source": [
    "## ¡Únete a nosotros! \n",
    "\n",
    "![PSF](psf-logo.png)\n",
    "\n",
    "### https://www.python.org/psf\n",
    "\n",
    "### Hable conmigo"
   ]
  },
  {
   "cell_type": "markdown",
   "metadata": {
    "slideshow": {
     "slide_type": "slide"
    }
   },
   "source": [
    "## Iteration = repetition with code and data"
   ]
  },
  {
   "cell_type": "markdown",
   "metadata": {
    "slideshow": {
     "slide_type": "fragment"
    }
   },
   "source": [
    "## “Python's most powerful useful feature”\n",
    "\n",
    "-- Dave Beazley, “[Iterations of Evolution: The Unauthorized Biography of the For-Loop](https://www.youtube.com/watch?v=2AXuhgid7E4)”"
   ]
  },
  {
   "cell_type": "markdown",
   "metadata": {
    "slideshow": {
     "slide_type": "subslide"
    }
   },
   "source": [
    "### Repetitive collections/series of data are all around us\n",
    "\n",
    "**Consider the following:**\n",
    "* temperature readings for a month\n",
    "* dictionary keys mapping member ID's to members\n",
    "* a CSV file of a million products\n",
    "* the text of the novel *Moby Dick*\n",
    "* a result set for a database query for yesterday's sales"
   ]
  },
  {
   "cell_type": "markdown",
   "metadata": {
    "slideshow": {
     "slide_type": "subslide"
    }
   },
   "source": [
    "###  They don't have a lot in common\n",
    " * different types of containers/series\n",
    " * different types of items\n",
    "\n",
    "### But... \n",
    "\n",
    "All are series of items where we might want to look at one item after another.\n",
    "\n"
   ]
  },
  {
   "cell_type": "markdown",
   "metadata": {
    "slideshow": {
     "slide_type": "subslide"
    }
   },
   "source": [
    "### The Pythonic `for` Loop"
   ]
  },
  {
   "cell_type": "code",
   "execution_count": 76,
   "metadata": {
    "slideshow": {
     "slide_type": "fragment"
    }
   },
   "outputs": [
    {
     "name": "stdout",
     "output_type": "stream",
     "text": [
      "1\n",
      "2\n",
      "3\n",
      "4\n"
     ]
    }
   ],
   "source": [
    "# for loop (Python style)\n",
    "a_list = [1, 2, 3, 4]\n",
    "\n",
    "for item in a_list:\n",
    "    print(item)"
   ]
  },
  {
   "cell_type": "markdown",
   "metadata": {
    "slideshow": {
     "slide_type": "subslide"
    }
   },
   "source": [
    "### And it works the same for different types\n",
    "* `for keys in a dictionary:`\n",
    "* `for chars in a string:`\n",
    "* `for records in query results:`\n",
    "* `for lines in a file:`\n",
    "\n",
    "etc..."
   ]
  },
  {
   "cell_type": "markdown",
   "metadata": {
    "slideshow": {
     "slide_type": "subslide"
    }
   },
   "source": [
    "## Obvious, right?\n",
    "\n",
    "It wasn't always so obvious..."
   ]
  },
  {
   "cell_type": "markdown",
   "metadata": {
    "slideshow": {
     "slide_type": "slide"
    }
   },
   "source": [
    "## It *used* to be surprising\n",
    "\n",
    "### Python and `for` loops\n",
    "\n",
    "The `for` statement in Python differs a bit \n",
    "from what you may be\n",
    "used to in C or Pascal.  Rather than always iterating over an\n",
    "arithmetic progression of numbers (like in Pascal), or leaving the user\n",
    "completely free in the iteration test and step (as C), Python's `for` \n",
    "statement iterates over the items of any sequence (e.g., a list\n",
    "or a string), in the order that they appear in the sequence.\n",
    "\n",
    "-- Python V 1.1 Docs, 1994"
   ]
  },
  {
   "cell_type": "markdown",
   "metadata": {
    "slideshow": {
     "slide_type": "slide"
    }
   },
   "source": [
    "## How does that work?\n",
    "\n",
    "* **How does a `for` loop know the “next” item?**\n",
    "* **How can `for` loops use so many different types?**\n",
    "* **What makes an object “work” in a `for` loop?**"
   ]
  },
  {
   "cell_type": "markdown",
   "metadata": {
    "slideshow": {
     "slide_type": "subslide"
    }
   },
   "source": [
    "## Iteration protocol\n",
    "\n",
    "* iteration in Python relies on a **protocol**, not types (from Python 2.2)\n",
    "* It's a good example of Python's “duck typing” - anything that follows the protocol can be iterated over"
   ]
  },
  {
   "cell_type": "markdown",
   "metadata": {
    "slideshow": {
     "slide_type": "subslide"
    }
   },
   "source": [
    "### Protocol: \n",
    "1. for iteration you need an **iterable** object\n",
    "2. and an **iterator** (which Python often handles for you)"
   ]
  },
  {
   "cell_type": "markdown",
   "metadata": {
    "slideshow": {
     "slide_type": "slide"
    }
   },
   "source": [
    "## What is an ‘iterable’?\n",
    "\n",
    "* An object capable of returning its members **one at a time.** \n",
    "* **any classes** with an **`__iter__()`** method \n",
    "* or **any classes** with a **`__getitem__()`** method that implements **Sequence semantics**.\n",
    "\n",
    "Examples of iterables include **all sequence types** (such as `list`, `str`, and `tuple`) and **some non-sequence types** like `dict`, file objects, etc.\n"
   ]
  },
  {
   "cell_type": "markdown",
   "metadata": {
    "slideshow": {
     "slide_type": "subslide"
    }
   },
   "source": [
    "### Sequence Semantics?\n",
    "* access the values in order\n",
    "* access with `[]` and integer index values starting a 0\n",
    "* return IndexError when past the end of sequence\n",
    "\n",
    "```\n",
    "x[0]\n",
    "x[1]\n",
    "x[2]\n",
    "```"
   ]
  },
  {
   "cell_type": "markdown",
   "metadata": {
    "slideshow": {
     "slide_type": "subslide"
    }
   },
   "source": [
    "## Iterables \n",
    "* can be used in  `for` loops and where a sequence is needed (`zip()`, `map()`, …). \n",
    "* `iter(an_iterable)` returns an **iterator** for the iterable object\n",
    "* the `for` statement **automatically creates a temporary unnamed variable** to hold the iterator."
   ]
  },
  {
   "cell_type": "markdown",
   "metadata": {
    "slideshow": {
     "slide_type": "subslide"
    }
   },
   "source": [
    "### An iterable...\n",
    "\n",
    "must return an **iterator** when the `iter()` function is called on it."
   ]
  },
  {
   "cell_type": "markdown",
   "metadata": {
    "slideshow": {
     "slide_type": "fragment"
    }
   },
   "source": [
    "### There are 2 ways an iterable can return a iterator - it can\n",
    "* have a **`__getitem__()`** method with sequence semantics - i.e., access items by integer index.\n",
    "* **OR** implement an **`__iter__()`** method that returns an iterator (more on this soon)"
   ]
  },
  {
   "cell_type": "markdown",
   "metadata": {
    "slideshow": {
     "slide_type": "subslide"
    }
   },
   "source": [
    "### EAFP - Easier to Ask for Forgiveness than Permission\n",
    "\n",
    "i.e, does calling `iter()` on it return an iterator? or an exception?"
   ]
  },
  {
   "cell_type": "code",
   "execution_count": 77,
   "metadata": {
    "slideshow": {
     "slide_type": "subslide"
    }
   },
   "outputs": [
    {
     "data": {
      "text/plain": [
       "<list_iterator at 0x7f6cac42f160>"
      ]
     },
     "execution_count": 77,
     "metadata": {},
     "output_type": "execute_result"
    }
   ],
   "source": [
    "iter([1, 2, 3])"
   ]
  },
  {
   "cell_type": "code",
   "execution_count": 78,
   "metadata": {
    "slideshow": {
     "slide_type": "fragment"
    }
   },
   "outputs": [
    {
     "ename": "TypeError",
     "evalue": "'int' object is not iterable",
     "output_type": "error",
     "traceback": [
      "\u001b[0;31m---------------------------------------------------------------------------\u001b[0m",
      "\u001b[0;31mTypeError\u001b[0m                                 Traceback (most recent call last)",
      "\u001b[0;32m<ipython-input-78-6c526ffefc5a>\u001b[0m in \u001b[0;36m<module>\u001b[0;34m()\u001b[0m\n\u001b[0;32m----> 1\u001b[0;31m \u001b[0miter\u001b[0m\u001b[0;34m(\u001b[0m\u001b[0;36m1\u001b[0m\u001b[0;34m)\u001b[0m\u001b[0;34m\u001b[0m\u001b[0m\n\u001b[0m",
      "\u001b[0;31mTypeError\u001b[0m: 'int' object is not iterable"
     ]
    }
   ],
   "source": [
    "iter(1) \n"
   ]
  },
  {
   "cell_type": "markdown",
   "metadata": {
    "slideshow": {
     "slide_type": "slide"
    }
   },
   "source": [
    "## Let’s make an iterable -  `Repeater`\n",
    "\n",
    "A object that can be iterated over and returns the same value for the specified number of times.\n",
    "\n",
    "```\n",
    "repeat = Repeater(\"hola\", 4)\n",
    "\n",
    "for i in repeat:\n",
    "    print(i)\n",
    "\n",
    "hola\n",
    "hola\n",
    "hola\n",
    "hola\n",
    "```"
   ]
  },
  {
   "cell_type": "markdown",
   "metadata": {
    "slideshow": {
     "slide_type": "subslide"
    }
   },
   "source": [
    "### As an iterable, using `__getitem__()`"
   ]
  },
  {
   "cell_type": "code",
   "execution_count": 1,
   "metadata": {
    "slideshow": {
     "slide_type": "fragment"
    }
   },
   "outputs": [],
   "source": [
    "class Repeater:\n",
    "    def __init__(self, value, limit):\n",
    "        self.value = value\n",
    "        self.limit = limit\n",
    "        \n",
    "    def __getitem__(self, key):\n",
    "        if 0 <= key < self.limit:\n",
    "            return self.value\n",
    "        else:\n",
    "            raise IndexError\n",
    "        "
   ]
  },
  {
   "cell_type": "code",
   "execution_count": 2,
   "metadata": {
    "slideshow": {
     "slide_type": "subslide"
    }
   },
   "outputs": [],
   "source": [
    "repeat = Repeater(\"hola\", 4)\n"
   ]
  },
  {
   "cell_type": "code",
   "execution_count": 3,
   "metadata": {
    "slideshow": {
     "slide_type": "fragment"
    }
   },
   "outputs": [
    {
     "ename": "IndexError",
     "evalue": "",
     "output_type": "error",
     "traceback": [
      "\u001b[0;31m---------------------------------------------------------------------------\u001b[0m",
      "\u001b[0;31mIndexError\u001b[0m                                Traceback (most recent call last)",
      "\u001b[0;32m<ipython-input-3-eee8ca018c55>\u001b[0m in \u001b[0;36m<module>\u001b[0;34m()\u001b[0m\n\u001b[1;32m      1\u001b[0m \u001b[0;31m# __getitem__ with sequence semantics?\u001b[0m\u001b[0;34m\u001b[0m\u001b[0;34m\u001b[0m\u001b[0m\n\u001b[1;32m      2\u001b[0m \u001b[0;34m\u001b[0m\u001b[0m\n\u001b[0;32m----> 3\u001b[0;31m \u001b[0mrepeat\u001b[0m\u001b[0;34m[\u001b[0m\u001b[0;36m4\u001b[0m\u001b[0;34m]\u001b[0m\u001b[0;34m\u001b[0m\u001b[0m\n\u001b[0m",
      "\u001b[0;32m<ipython-input-1-f2f62ed037e1>\u001b[0m in \u001b[0;36m__getitem__\u001b[0;34m(self, key)\u001b[0m\n\u001b[1;32m      8\u001b[0m             \u001b[0;32mreturn\u001b[0m \u001b[0mself\u001b[0m\u001b[0;34m.\u001b[0m\u001b[0mvalue\u001b[0m\u001b[0;34m\u001b[0m\u001b[0m\n\u001b[1;32m      9\u001b[0m         \u001b[0;32melse\u001b[0m\u001b[0;34m:\u001b[0m\u001b[0;34m\u001b[0m\u001b[0m\n\u001b[0;32m---> 10\u001b[0;31m             \u001b[0;32mraise\u001b[0m \u001b[0mIndexError\u001b[0m\u001b[0;34m\u001b[0m\u001b[0m\n\u001b[0m\u001b[1;32m     11\u001b[0m \u001b[0;34m\u001b[0m\u001b[0m\n",
      "\u001b[0;31mIndexError\u001b[0m: "
     ]
    }
   ],
   "source": [
    "# __getitem__ with sequence semantics?\n",
    "\n",
    "repeat[4]"
   ]
  },
  {
   "cell_type": "code",
   "execution_count": 4,
   "metadata": {
    "slideshow": {
     "slide_type": "fragment"
    }
   },
   "outputs": [
    {
     "data": {
      "text/plain": [
       "<iterator at 0x7fd33c0f4b00>"
      ]
     },
     "execution_count": 4,
     "metadata": {},
     "output_type": "execute_result"
    }
   ],
   "source": [
    "# can the iter() function return an iterator?\n",
    "\n",
    "iter(repeat)"
   ]
  },
  {
   "cell_type": "code",
   "execution_count": 5,
   "metadata": {
    "slideshow": {
     "slide_type": "subslide"
    }
   },
   "outputs": [
    {
     "name": "stdout",
     "output_type": "stream",
     "text": [
      "hola\n",
      "hola\n",
      "hola\n",
      "hola\n"
     ]
    }
   ],
   "source": [
    "# for loop\n",
    "for item in repeat:\n",
    "    print(item)"
   ]
  },
  {
   "cell_type": "code",
   "execution_count": 6,
   "metadata": {
    "scrolled": true,
    "slideshow": {
     "slide_type": "fragment"
    }
   },
   "outputs": [
    {
     "data": {
      "text/plain": [
       "['hola', 'hola', 'hola', 'hola']"
      ]
     },
     "execution_count": 6,
     "metadata": {},
     "output_type": "execute_result"
    }
   ],
   "source": [
    "# list comprehension\n",
    "\n",
    "[x for x in repeat]"
   ]
  },
  {
   "cell_type": "markdown",
   "metadata": {
    "slideshow": {
     "slide_type": "slide"
    }
   },
   "source": [
    "### Behind the scenes\n",
    "\n",
    "* the `repeat` object is an **iterable**\n",
    "  * it can return the items using integer indexes starting from 0\n",
    "  * it continues until an IndexError is thrown\n",
    "* an **iterator** is being created from the `repeat` object\n",
    "  * iterator gets each item from the iterable\n",
    "  * iterator catches IndexError from iterable and stops\n",
    "* each time it is iterated on a new iterator is created and it starts from the beginning"
   ]
  },
  {
   "cell_type": "markdown",
   "metadata": {
    "slideshow": {
     "slide_type": "slide"
    }
   },
   "source": [
    "## What’s an Iterator?\n",
    "\n",
    "The Python `for` loop relies on being able to get a **next** item\n",
    "* **the loop itself doesn't care or know** exactly where in the series that item is (or what type it is)\n",
    "* **the iterable doesn't know** what's next\n",
    "* the **iterator** has to keep track of what's next\n",
    "\n",
    "\n",
    "An **iterator** has a `__next__()` method (in Python 2 `next()`) that tracks and returns the next item in the series, and you can use the `next()` function to return the next item for iteration."
   ]
  },
  {
   "cell_type": "markdown",
   "metadata": {
    "slideshow": {
     "slide_type": "subslide"
    }
   },
   "source": [
    "### iterator\n",
    "\n",
    "\n",
    "* represents **a stream of data**. \n",
    "* Repeated **calls to the iterator’s `__next__()`** method (or built-in function `next()`) **return the next items** in the stream. \n",
    "* When **no more data are available a StopIteration exception is raised**. \n",
    "* **iterator is exhausted** and more calls to its `__next__()` method just raise StopIteration again... \n"
   ]
  },
  {
   "cell_type": "markdown",
   "metadata": {
    "slideshow": {
     "slide_type": "subslide"
    }
   },
   "source": [
    "### ALL iterators\n",
    "* must have an `__iter__()` method that returns the iterator object itself \n",
    "  * **every iterator is also iterable** \n",
    "  * may be used in most places where other iterables are accepted. "
   ]
  },
  {
   "cell_type": "markdown",
   "metadata": {
    "slideshow": {
     "slide_type": "subslide"
    }
   },
   "source": [
    "### multiple iteration passes\n",
    "* Most iterables (such as a list) produce a fresh **new iterator each time** you iterate on it.\n",
    "* **an iterator will just return the same exhausted iterator object** used in the previous iteration pass, making it appear like an empty container."
   ]
  },
  {
   "cell_type": "markdown",
   "metadata": {
    "slideshow": {
     "slide_type": "slide"
    }
   },
   "source": [
    "### Let’s make a iterator - `RepeatIterator`\n",
    "\n",
    "* implement `__next__()` method to return next item\n",
    "* implement `__iter__()` method to return itself"
   ]
  },
  {
   "cell_type": "code",
   "execution_count": 7,
   "metadata": {
    "slideshow": {
     "slide_type": "subslide"
    }
   },
   "outputs": [],
   "source": [
    "class RepeatIterator:\n",
    "    def __init__(self, value, limit):\n",
    "        self.value = value\n",
    "        self.limit = limit\n",
    "        self.count = 0\n",
    "        \n",
    "    def __next__(self):\n",
    "        if self.count < self.limit:\n",
    "            self.count += 1\n",
    "            return self.value\n",
    "        else:\n",
    "            raise StopIteration\n",
    "            \n",
    "    def __iter__(self):\n",
    "        return self\n",
    " "
   ]
  },
  {
   "cell_type": "code",
   "execution_count": 8,
   "metadata": {
    "slideshow": {
     "slide_type": "subslide"
    }
   },
   "outputs": [
    {
     "data": {
      "text/plain": [
       "<__main__.RepeatIterator at 0x7fd33c017240>"
      ]
     },
     "execution_count": 8,
     "metadata": {},
     "output_type": "execute_result"
    }
   ],
   "source": [
    "repeat_iter = RepeatIterator(\"Hi\", 4)\n",
    "\n",
    "repeat_iter"
   ]
  },
  {
   "cell_type": "code",
   "execution_count": 9,
   "metadata": {
    "scrolled": true,
    "slideshow": {
     "slide_type": "fragment"
    }
   },
   "outputs": [
    {
     "data": {
      "text/plain": [
       "'Hi'"
      ]
     },
     "execution_count": 9,
     "metadata": {},
     "output_type": "execute_result"
    }
   ],
   "source": [
    "# does it return next item using next() function?\n",
    "next(repeat_iter)"
   ]
  },
  {
   "cell_type": "code",
   "execution_count": 10,
   "metadata": {
    "slideshow": {
     "slide_type": "subslide"
    }
   },
   "outputs": [
    {
     "name": "stdout",
     "output_type": "stream",
     "text": [
      "<__main__.RepeatIterator object at 0x7fd33c017240>\n",
      "<__main__.RepeatIterator object at 0x7fd33c017240>\n"
     ]
    }
   ],
   "source": [
    "# calling iter on it, returns object itself\n",
    "print(repeat_iter)\n",
    "\n",
    "repeat_iter_iter = iter(repeat_iter)\n",
    "print(repeat_iter_iter) "
   ]
  },
  {
   "cell_type": "code",
   "execution_count": 11,
   "metadata": {
    "slideshow": {
     "slide_type": "fragment"
    }
   },
   "outputs": [
    {
     "name": "stdout",
     "output_type": "stream",
     "text": [
      "<iterator object at 0x7fd33c017668>\n",
      "<iterator object at 0x7fd33c017710>\n"
     ]
    }
   ],
   "source": [
    "# calling iter() on iterable always returns new iterator\n",
    "print(iter(repeat))\n",
    "\n",
    "print(iter(repeat))"
   ]
  },
  {
   "cell_type": "code",
   "execution_count": 12,
   "metadata": {
    "scrolled": true,
    "slideshow": {
     "slide_type": "subslide"
    }
   },
   "outputs": [
    {
     "name": "stdout",
     "output_type": "stream",
     "text": [
      "Hi\n",
      "Hi\n",
      "Hi\n"
     ]
    }
   ],
   "source": [
    "# can we use it in a for loop?\n",
    "for item in repeat_iter:\n",
    "    print(item)"
   ]
  },
  {
   "cell_type": "code",
   "execution_count": 13,
   "metadata": {
    "slideshow": {
     "slide_type": "subslide"
    }
   },
   "outputs": [
    {
     "ename": "StopIteration",
     "evalue": "",
     "output_type": "error",
     "traceback": [
      "\u001b[0;31m---------------------------------------------------------------------------\u001b[0m",
      "\u001b[0;31mStopIteration\u001b[0m                             Traceback (most recent call last)",
      "\u001b[0;32m<ipython-input-13-3f04467a2490>\u001b[0m in \u001b[0;36m<module>\u001b[0;34m()\u001b[0m\n\u001b[1;32m      1\u001b[0m \u001b[0;31m# can we re-use it? (with next())\u001b[0m\u001b[0;34m\u001b[0m\u001b[0;34m\u001b[0m\u001b[0m\n\u001b[0;32m----> 2\u001b[0;31m \u001b[0mnext\u001b[0m\u001b[0;34m(\u001b[0m\u001b[0mrepeat_iter\u001b[0m\u001b[0;34m)\u001b[0m\u001b[0;34m\u001b[0m\u001b[0m\n\u001b[0m",
      "\u001b[0;32m<ipython-input-7-c30bc541e257>\u001b[0m in \u001b[0;36m__next__\u001b[0;34m(self)\u001b[0m\n\u001b[1;32m     10\u001b[0m             \u001b[0;32mreturn\u001b[0m \u001b[0mself\u001b[0m\u001b[0;34m.\u001b[0m\u001b[0mvalue\u001b[0m\u001b[0;34m\u001b[0m\u001b[0m\n\u001b[1;32m     11\u001b[0m         \u001b[0;32melse\u001b[0m\u001b[0;34m:\u001b[0m\u001b[0;34m\u001b[0m\u001b[0m\n\u001b[0;32m---> 12\u001b[0;31m             \u001b[0;32mraise\u001b[0m \u001b[0mStopIteration\u001b[0m\u001b[0;34m\u001b[0m\u001b[0m\n\u001b[0m\u001b[1;32m     13\u001b[0m \u001b[0;34m\u001b[0m\u001b[0m\n\u001b[1;32m     14\u001b[0m     \u001b[0;32mdef\u001b[0m \u001b[0m__iter__\u001b[0m\u001b[0;34m(\u001b[0m\u001b[0mself\u001b[0m\u001b[0;34m)\u001b[0m\u001b[0;34m:\u001b[0m\u001b[0;34m\u001b[0m\u001b[0m\n",
      "\u001b[0;31mStopIteration\u001b[0m: "
     ]
    }
   ],
   "source": [
    "# can we re-use it? (with next())\n",
    "next(repeat_iter)"
   ]
  },
  {
   "cell_type": "code",
   "execution_count": 14,
   "metadata": {
    "slideshow": {
     "slide_type": "subslide"
    }
   },
   "outputs": [],
   "source": [
    "# can we re-use it in a for loop? \n",
    "for item in repeat_iter:\n",
    "    print(item)"
   ]
  },
  {
   "cell_type": "markdown",
   "metadata": {
    "slideshow": {
     "slide_type": "subslide"
    }
   },
   "source": [
    "### Behind the scenes\n",
    "* `for` called `iter()` on repeat_iter, which returned itself (to anonymous var)\n",
    "* `for` called `next()` on iterator to get values for loop\n",
    "* `for` caught `StopIteration` and stopped iterating"
   ]
  },
  {
   "cell_type": "markdown",
   "metadata": {
    "slideshow": {
     "slide_type": "slide"
    }
   },
   "source": [
    "## Making an iterator with a generator function"
   ]
  },
  {
   "cell_type": "code",
   "execution_count": 15,
   "metadata": {
    "slideshow": {
     "slide_type": "fragment"
    }
   },
   "outputs": [
    {
     "name": "stdout",
     "output_type": "stream",
     "text": [
      "<generator object repeat_gen at 0x7fd33c07be08>\n",
      "olá\n",
      "olá\n",
      "olá\n"
     ]
    }
   ],
   "source": [
    "def repeat_gen(value, limit):\n",
    "    for i in range(limit):\n",
    "        yield value\n",
    "    \n",
    "repeat_gen_obj = repeat_gen(\"olá\", 3)\n",
    "print(repeat_gen_obj)\n",
    "for item in repeat_gen_obj: \n",
    "    print(item) "
   ]
  },
  {
   "cell_type": "markdown",
   "metadata": {
    "slideshow": {
     "slide_type": "subslide"
    }
   },
   "source": [
    "### Behind the scenes\n",
    "* executing generator function (with `yield`) creates generator object\n",
    "* generator object is an iterator\n",
    "* generator object saves state at each call of `yield`"
   ]
  },
  {
   "cell_type": "code",
   "execution_count": 16,
   "metadata": {
    "slideshow": {
     "slide_type": "subslide"
    }
   },
   "outputs": [
    {
     "name": "stdout",
     "output_type": "stream",
     "text": [
      "hi\n",
      "hi\n",
      "hi\n",
      "hi\n"
     ]
    }
   ],
   "source": [
    "# or use a generator expression\n",
    "\n",
    "value = \"hi\"\n",
    "limit = 4\n",
    "\n",
    "repeat_gen_exp = (value for x in range(limit))\n",
    "\n",
    "for item in repeat_gen_exp:\n",
    "    print(item)"
   ]
  },
  {
   "cell_type": "markdown",
   "metadata": {
    "slideshow": {
     "slide_type": "subslide"
    }
   },
   "source": [
    "### Behind the scenes\n",
    "* executing generator expression also creates generator object\n",
    "* similar code to the generator function"
   ]
  },
  {
   "cell_type": "markdown",
   "metadata": {
    "slideshow": {
     "slide_type": "slide"
    }
   },
   "source": [
    "### ~~Repetitive collections/series of data~~ Iterables\n",
    "\n",
    "* lists (arrays), tuples\n",
    "* strings\n",
    "* dictionary keys/items\n",
    "* sets\n",
    "* files\n",
    "* database query results\n",
    "* etc"
   ]
  },
  {
   "cell_type": "markdown",
   "metadata": {
    "slideshow": {
     "slide_type": "slide"
    }
   },
   "source": [
    "## Iteration in Python\n",
    "\n",
    "* is a **protocol** (since Python 2.2)\n",
    "* requires an **iterable** to iterate over\n",
    "* requires an **iterator** (often automatically created behind the scenes) to track what's **next**\n",
    "* **iterators can be used as iterables,** but often don't \"renew\""
   ]
  },
  {
   "cell_type": "markdown",
   "metadata": {
    "slideshow": {
     "slide_type": "slide"
    }
   },
   "source": [
    "## Resources\n",
    "\n",
    "* [Python Tutorial - iterators](https://docs.python.org/3.7/tutorial/classes.html#iterators)\n",
    "* [Python Tutorial - generator expressions](https://docs.python.org/3.7/tutorial/classes.html#generator-expressions)\n",
    "* [Iterator types documentation](https://docs.python.org/dev/library/stdtypes.html#iterator-types)\n",
    "* [Iterators, Functional Programming HOWTO](https://docs.python.org/dev/howto/functional.html#iterators)\n",
    "* [Iterations of Evolution: The Unauthorized Biography of the For-Loop](https://www.youtube.com/watch?v=2AXuhgid7E4) - Dave Beazley, PyCon Pakistan 2017"
   ]
  },
  {
   "cell_type": "markdown",
   "metadata": {
    "slideshow": {
     "slide_type": "slide"
    }
   },
   "source": [
    "# ¡Mil gracias!\n",
    "\n",
    "## ¿Preguntas?\n",
    "\n",
    "### @NaomiCeder\n",
    "### naomi@naomiceder.tech • www.naomiceder.tech"
   ]
  }
 ],
 "metadata": {
  "celltoolbar": "Slideshow",
  "kernelspec": {
   "display_name": "Python 3.6",
   "language": "python",
   "name": "python3.6"
  },
  "livereveal": {
   "scroll": true,
   "start_slideshow_at": "selected",
   "theme": "white",
   "transition": "none"
  },
  "toc": {
   "nav_menu": {},
   "number_sections": false,
   "sideBar": true,
   "skip_h1_title": false,
   "toc_cell": true,
   "toc_position": {},
   "toc_section_display": "block",
   "toc_window_display": false
  }
 },
 "nbformat": 4,
 "nbformat_minor": 2
}
